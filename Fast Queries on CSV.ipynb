{
 "cells": [
  {
   "cell_type": "markdown",
   "metadata": {},
   "source": [
    "# Building Fast Queries on a CSV"
   ]
  },
  {
   "cell_type": "markdown",
   "metadata": {},
   "source": [
    "#### Imagine that you own an online laptop store and want to build a way to answer a few different business questions about your inventory.\n",
    "\n",
    "#### TIP:Preprocessing data can significantly speed-up an algorithm"
   ]
  },
  {
   "cell_type": "markdown",
   "metadata": {},
   "source": [
    "## 1.Exploring the data"
   ]
  },
  {
   "cell_type": "code",
   "execution_count": 2,
   "metadata": {},
   "outputs": [],
   "source": [
    "import csv"
   ]
  },
  {
   "cell_type": "code",
   "execution_count": 3,
   "metadata": {},
   "outputs": [],
   "source": [
    "with open('laptops.csv', encoding='UTF-8') as file:\n",
    "    read_file = csv.reader(file)\n",
    "    laptop_list = list(read_file)\n",
    "    header = laptop_list[:1]\n",
    "    rows = laptop_list[1:]\n",
    "    \n"
   ]
  },
  {
   "cell_type": "code",
   "execution_count": 4,
   "metadata": {},
   "outputs": [
    {
     "data": {
      "text/plain": [
       "[['Id',\n",
       "  'Company',\n",
       "  'Product',\n",
       "  'TypeName',\n",
       "  'Inches',\n",
       "  'ScreenResolution',\n",
       "  'Cpu',\n",
       "  'Ram',\n",
       "  'Memory',\n",
       "  'Gpu',\n",
       "  'OpSys',\n",
       "  'Weight',\n",
       "  'Price']]"
      ]
     },
     "execution_count": 4,
     "metadata": {},
     "output_type": "execute_result"
    }
   ],
   "source": [
    "header"
   ]
  },
  {
   "cell_type": "code",
   "execution_count": 5,
   "metadata": {},
   "outputs": [
    {
     "data": {
      "text/plain": [
       "[['6571244',\n",
       "  'Apple',\n",
       "  'MacBook Pro',\n",
       "  'Ultrabook',\n",
       "  '13.3',\n",
       "  'IPS Panel Retina Display 2560x1600',\n",
       "  'Intel Core i5 2.3GHz',\n",
       "  '8GB',\n",
       "  '128GB SSD',\n",
       "  'Intel Iris Plus Graphics 640',\n",
       "  'macOS',\n",
       "  '1.37kg',\n",
       "  '1339'],\n",
       " ['7287764',\n",
       "  'Apple',\n",
       "  'Macbook Air',\n",
       "  'Ultrabook',\n",
       "  '13.3',\n",
       "  '1440x900',\n",
       "  'Intel Core i5 1.8GHz',\n",
       "  '8GB',\n",
       "  '128GB Flash Storage',\n",
       "  'Intel HD Graphics 6000',\n",
       "  'macOS',\n",
       "  '1.34kg',\n",
       "  '898'],\n",
       " ['3362737',\n",
       "  'HP',\n",
       "  '250 G6',\n",
       "  'Notebook',\n",
       "  '15.6',\n",
       "  'Full HD 1920x1080',\n",
       "  'Intel Core i5 7200U 2.5GHz',\n",
       "  '8GB',\n",
       "  '256GB SSD',\n",
       "  'Intel HD Graphics 620',\n",
       "  'No OS',\n",
       "  '1.86kg',\n",
       "  '575'],\n",
       " ['9722156',\n",
       "  'Apple',\n",
       "  'MacBook Pro',\n",
       "  'Ultrabook',\n",
       "  '15.4',\n",
       "  'IPS Panel Retina Display 2880x1800',\n",
       "  'Intel Core i7 2.7GHz',\n",
       "  '16GB',\n",
       "  '512GB SSD',\n",
       "  'AMD Radeon Pro 455',\n",
       "  'macOS',\n",
       "  '1.83kg',\n",
       "  '2537'],\n",
       " ['8550527',\n",
       "  'Apple',\n",
       "  'MacBook Pro',\n",
       "  'Ultrabook',\n",
       "  '13.3',\n",
       "  'IPS Panel Retina Display 2560x1600',\n",
       "  'Intel Core i5 3.1GHz',\n",
       "  '8GB',\n",
       "  '256GB SSD',\n",
       "  'Intel Iris Plus Graphics 650',\n",
       "  'macOS',\n",
       "  '1.37kg',\n",
       "  '1803']]"
      ]
     },
     "execution_count": 5,
     "metadata": {},
     "output_type": "execute_result"
    }
   ],
   "source": [
    "rows[:5]"
   ]
  },
  {
   "cell_type": "markdown",
   "metadata": {},
   "source": [
    "## 2. Inventory Class"
   ]
  },
  {
   "cell_type": "markdown",
   "metadata": {},
   "source": [
    "#### Create an inventory class.\n",
    "#### Convert the price of each row into an integer. The price is the last column"
   ]
  },
  {
   "cell_type": "code",
   "execution_count": 7,
   "metadata": {},
   "outputs": [],
   "source": [
    "class Inventory():\n",
    "    def __init__(self, csv_filename):\n",
    "        with open(csv_filename) as file:\n",
    "            read_file = csv.reader(file)\n",
    "            file_list = list(read_file)\n",
    "            self.header = file_list[:1]\n",
    "            self.rows = file_list[1:]\n",
    "            for row in self.rows:       \n",
    "                row[-1] = int(row[-1])\n",
    "        "
   ]
  },
  {
   "cell_type": "code",
   "execution_count": 8,
   "metadata": {},
   "outputs": [
    {
     "name": "stdout",
     "output_type": "stream",
     "text": [
      "[['Id', 'Company', 'Product', 'TypeName', 'Inches', 'ScreenResolution', 'Cpu', 'Ram', 'Memory', 'Gpu', 'OpSys', 'Weight', 'Price']]\n",
      "1303\n"
     ]
    }
   ],
   "source": [
    "inventory = Inventory('laptops.csv')  \n",
    "print(inventory.header)               \n",
    "print(len(inventory.rows))            "
   ]
  },
  {
   "cell_type": "markdown",
   "metadata": {},
   "source": [
    "##  3. Finding a laptop from the ID"
   ]
  },
  {
   "cell_type": "markdown",
   "metadata": {},
   "source": [
    "#### Implemented a way to look up a laptop from a given identifier. In this way, when a customer comes to the store with a purchase slip, one can quickly identify the laptop to which it corresponds.\n",
    "\n"
   ]
  },
  {
   "cell_type": "code",
   "execution_count": 9,
   "metadata": {},
   "outputs": [],
   "source": [
    "class Inventory():\n",
    "    def __init__(self, csv_filename):\n",
    "        with open(csv_filename) as f: \n",
    "            reader = csv.reader(f)\n",
    "            rows = list(reader)\n",
    "        self.header = rows[0]        \n",
    "        self.rows = rows[1:]\n",
    "        for row in self.rows:              \n",
    "            row[-1] = int(row[-1])\n",
    "            \n",
    "    def get_laptop_from_id(self, laptop_id):   # step 1\n",
    "        for row in self.rows:                  # step 2\n",
    "            if row[0] == laptop_id:\n",
    "                return row\n",
    "        return None\n",
    "            "
   ]
  },
  {
   "cell_type": "code",
   "execution_count": 10,
   "metadata": {},
   "outputs": [
    {
     "name": "stdout",
     "output_type": "stream",
     "text": [
      "['3362737', 'HP', '250 G6', 'Notebook', '15.6', 'Full HD 1920x1080', 'Intel Core i5 7200U 2.5GHz', '8GB', '256GB SSD', 'Intel HD Graphics 620', 'No OS', '1.86kg', 575]\n",
      "None\n"
     ]
    }
   ],
   "source": [
    "inventory = Inventory('laptops.csv')\n",
    "print(inventory.get_laptop_from_id('3362737'))\n",
    "print(inventory.get_laptop_from_id('3362736'))"
   ]
  },
  {
   "cell_type": "markdown",
   "metadata": {},
   "source": [
    "## 4. Improving Id Lookups"
   ]
  },
  {
   "cell_type": "markdown",
   "metadata": {},
   "source": [
    "The algorithm above requires one to look at every single row to find the one that we are looking for (or decide that such a row does not exist). This algorithm has time complexity O(R) where R is the number of rows."
   ]
  },
  {
   "cell_type": "markdown",
   "metadata": {},
   "source": [
    "we can solve this problem more efficiently by preprocessing the data. Using a set, we can check in constant time whether a given identifier exists. However, we don't just want to know if it exists, we also want to retrieve the remaining row information. Therefore, we will use a dictionary instead of a set. Dictionaries have the same fast lookup properties that sets have, but allow us to associate values to the keys."
   ]
  },
  {
   "cell_type": "code",
   "execution_count": 11,
   "metadata": {},
   "outputs": [],
   "source": [
    "class Inventory():\n",
    "    def __init__(self, csv_filename):\n",
    "        with open(csv_filename) as f: \n",
    "            reader = csv.reader(f)\n",
    "            rows = list(reader)\n",
    "        self.header = rows[0]        \n",
    "        self.rows = rows[1:]\n",
    "        for row in self.rows:              \n",
    "            row[-1] = int(row[-1])\n",
    "        self.id_to_row = {}\n",
    "        for row in self.rows:                       \n",
    "            self.id_to_row[row[0]] = row \n",
    "            \n",
    "    def get_laptop_from_id(self, laptop_id):\n",
    "        for row in self.rows:                 \n",
    "            if row[0] == laptop_id:\n",
    "                return row\n",
    "        return None   \n",
    "    \n",
    "    def get_laptop_from_id_fast(self, laptop_id):   # step 3\n",
    "        if laptop_id in self.id_to_row:             # step 4\n",
    "            return self.id_to_row[laptop_id]\n",
    "        return None\n",
    "            "
   ]
  },
  {
   "cell_type": "code",
   "execution_count": 12,
   "metadata": {},
   "outputs": [
    {
     "name": "stdout",
     "output_type": "stream",
     "text": [
      "['3362737', 'HP', '250 G6', 'Notebook', '15.6', 'Full HD 1920x1080', 'Intel Core i5 7200U 2.5GHz', '8GB', '256GB SSD', 'Intel HD Graphics 620', 'No OS', '1.86kg', 575]\n",
      "None\n"
     ]
    }
   ],
   "source": [
    "inventory = Inventory('laptops.csv')                # step 5\n",
    "print(inventory.get_laptop_from_id_fast('3362737')) # step 6\n",
    "print(inventory.get_laptop_from_id_fast('3362736')) # step 7"
   ]
  },
  {
   "cell_type": "markdown",
   "metadata": {},
   "source": [
    "## 5. Comparing the Performance"
   ]
  },
  {
   "cell_type": "markdown",
   "metadata": {},
   "source": [
    "The get_laptop_from_id() method has time complexity O(R) where R is the number of rows. In contrast, the new implementation is time complexity O(1). It does so by using more memory to store the self.id_to_row dictionary and using a bit more time creating an instance (because it needs to create the dictionary)."
   ]
  },
  {
   "cell_type": "code",
   "execution_count": 13,
   "metadata": {},
   "outputs": [],
   "source": [
    "import time, random\n",
    "\n",
    "ids = [str(random.randint(1000000, 9999999)) for _ in range(10000)] # step 3\n",
    "\n",
    "inventory = Inventory('laptops.csv')                                # step 4\n",
    "\n",
    "total_time_no_dict = 0                                              # step 5\n",
    "for identifier in ids:                                              # step 6\n",
    "    start = time.time()                                             # step 6.1\n",
    "    inventory.get_laptop_from_id(identifier)                        # step 6.2\n",
    "    end = time.time()                                               # step 6.3\n",
    "    total_time_no_dict += end - start                               # step 6.4\n",
    "    \n",
    "total_time_dict = 0                                                 # step 7\n",
    "for identifier in ids:                                              # step 8\n",
    "    start = time.time()                                             # step 8.1\n",
    "    inventory.get_laptop_from_id_fast(identifier)                   # step 8.2\n",
    "    end = time.time()                                               # step 8.3\n",
    "    total_time_dict += end - start                                  # step 8.4\n",
    "    "
   ]
  },
  {
   "cell_type": "code",
   "execution_count": 14,
   "metadata": {},
   "outputs": [
    {
     "name": "stdout",
     "output_type": "stream",
     "text": [
      "1.5008983612060547\n",
      "0.00555872917175293\n"
     ]
    }
   ],
   "source": [
    "print(total_time_no_dict)                                           # step 9\n",
    "print(total_time_dict)"
   ]
  },
  {
   "cell_type": "markdown",
   "metadata": {},
   "source": [
    "We can see a significant improve in performance. If we divide 1.5 by 0.006 we see that the new method is about 250 times faster for this input size."
   ]
  },
  {
   "cell_type": "markdown",
   "metadata": {},
   "source": [
    "## 6. Two Laptop Promotion"
   ]
  },
  {
   "cell_type": "markdown",
   "metadata": {},
   "source": [
    "Sometimes, your store offers a promotion where you give a gift card. A customer can use the gift to buy up to two laptops. To avoid having to keep track of what was already spent, the gift card has a single time usage. This means that, even if there is leftover money, it cannot be used anymore."
   ]
  },
  {
   "cell_type": "markdown",
   "metadata": {},
   "source": [
    "Before issuing a gift card for D dollars, you want to make sure that either there is a laptop that costs exactly D dollars or two laptops whose costs add up to precisely D dollars.\n",
    "\n",
    "Write a function that, given a dollar amount, checks whether it is possible to spend precisely that amount by purchasing up to two laptops."
   ]
  },
  {
   "cell_type": "code",
   "execution_count": 15,
   "metadata": {},
   "outputs": [],
   "source": [
    "class Inventory():                    \n",
    "    \n",
    "    def __init__(self, csv_filename):\n",
    "        with open(csv_filename) as f: \n",
    "            reader = csv.reader(f)\n",
    "            rows = list(reader)\n",
    "        self.header = rows[0]        \n",
    "        self.rows = rows[1:]\n",
    "        for row in self.rows:              \n",
    "            row[-1] = int(row[-1])\n",
    "        self.id_to_row = {}                        \n",
    "        for row in self.rows:                       \n",
    "            self.id_to_row[row[0]] = row \n",
    "    \n",
    "    def get_laptop_from_id(self, laptop_id):\n",
    "        for row in self.rows:                 \n",
    "            if row[0] == laptop_id:\n",
    "                return row\n",
    "        return None   \n",
    "    \n",
    "    def get_laptop_from_id_fast(self, laptop_id):  \n",
    "        if laptop_id in self.id_to_row:           \n",
    "            return self.id_to_row[laptop_id]\n",
    "        return None\n",
    "\n",
    "    def check_promotion_dollars(self, dollars):    # step 1\n",
    "        for row in self.rows:                      # step 2\n",
    "            if row[-1] == dollars:\n",
    "                return True\n",
    "        for row1 in self.rows:                     # step 3\n",
    "            for row2 in self.rows:\n",
    "                if row1[-1] + row2[-1] == dollars:\n",
    "                    return True\n",
    "        return False                            "
   ]
  },
  {
   "cell_type": "code",
   "execution_count": 16,
   "metadata": {},
   "outputs": [
    {
     "name": "stdout",
     "output_type": "stream",
     "text": [
      "True\n",
      "False\n"
     ]
    }
   ],
   "source": [
    "inventory = Inventory('laptops.csv')               # step 5\n",
    "print(inventory.check_promotion_dollars(1000))     # step 6\n",
    "print(inventory.check_promotion_dollars(442)) "
   ]
  },
  {
   "cell_type": "markdown",
   "metadata": {},
   "source": [
    "## Optimizing Laptop promotion"
   ]
  },
  {
   "cell_type": "markdown",
   "metadata": {},
   "source": [
    "Since we only care about whether or not there is a solution, we can store all laptops prices in a set when we initialize the inventory. Then we can check in constant time whether there is a laptop with a given price."
   ]
  },
  {
   "cell_type": "code",
   "execution_count": 17,
   "metadata": {},
   "outputs": [],
   "source": [
    "class Inventory():                    \n",
    "    \n",
    "    def __init__(self, csv_filename):\n",
    "        with open(csv_filename) as f: \n",
    "            reader = csv.reader(f)\n",
    "            rows = list(reader)\n",
    "        self.header = rows[0]        \n",
    "        self.rows = rows[1:]\n",
    "        for row in self.rows:              \n",
    "            row[-1] = int(row[-1])\n",
    "        self.id_to_row = {}                        \n",
    "        for row in self.rows:                       \n",
    "            self.id_to_row[row[0]] = row\n",
    "        self.prices = set()                          # step 1\n",
    "        for row in self.rows:                        # step 2\n",
    "            self.prices.add(row[-1])\n",
    "    \n",
    "    def get_laptop_from_id(self, laptop_id):\n",
    "        for row in self.rows:                 \n",
    "            if row[0] == laptop_id:\n",
    "                return row\n",
    "        return None   \n",
    "    \n",
    "    def get_laptop_from_id_fast(self, laptop_id):  \n",
    "        if laptop_id in self.id_to_row:           \n",
    "            return self.id_to_row[laptop_id]\n",
    "        return None\n",
    "\n",
    "    def check_promotion_dollars(self, dollars):    \n",
    "        for row in self.rows:                   \n",
    "            if row[-1] == dollars:\n",
    "                return True\n",
    "        for row1 in self.rows:                  \n",
    "            for row2 in self.rows:\n",
    "                if row1[-1] + row2[-1] == dollars:\n",
    "                    return True\n",
    "        return False                        \n",
    "    \n",
    "    def check_promotion_dollars_fast(self, dollars): # step 3\n",
    "        if dollars in self.prices:                   # step 4\n",
    "            return True\n",
    "        for price in self.prices:                    # step 5\n",
    "            if dollars - price in self.prices:\n",
    "                return True\n",
    "        return False                                 # step 6"
   ]
  },
  {
   "cell_type": "code",
   "execution_count": 18,
   "metadata": {},
   "outputs": [
    {
     "name": "stdout",
     "output_type": "stream",
     "text": [
      "True\n",
      "False\n"
     ]
    }
   ],
   "source": [
    "inventory = Inventory('laptops.csv')                 # step 7\n",
    "print(inventory.check_promotion_dollars_fast(1000))  # step 8\n",
    "print(inventory.check_promotion_dollars_fast(442))   # step 9"
   ]
  },
  {
   "cell_type": "markdown",
   "metadata": {},
   "source": [
    "## Comparing Promotion Functions"
   ]
  },
  {
   "cell_type": "code",
   "execution_count": 19,
   "metadata": {},
   "outputs": [
    {
     "name": "stdout",
     "output_type": "stream",
     "text": [
      "2.518876552581787\n",
      "0.0009846687316894531\n"
     ]
    }
   ],
   "source": [
    "prices = [random.randint(100, 5000) for _ in range(100)] # step 1\n",
    "\n",
    "inventory = Inventory('laptops.csv')                     # step 2\n",
    "\n",
    "total_time_no_set = 0                                    # step 3\n",
    "for price in prices:                                     # step 4\n",
    "    start = time.time()                                  # step 4.1\n",
    "    inventory.check_promotion_dollars(price)             # step 4.2\n",
    "    end = time.time()                                    # step 4.3\n",
    "    total_time_no_set += end - start                     # step 4.4\n",
    "    \n",
    "total_time_set = 0                                       # step 5\n",
    "for price in prices:                                     # step 6\n",
    "    start = time.time()                                  # step 6.1\n",
    "    inventory.check_promotion_dollars_fast(price)        # step 6.2\n",
    "    end = time.time()                                    # step 6.3\n",
    "    total_time_set += end - start                        # step 6.4\n",
    "    \n",
    "print(total_time_no_set)                                 # step 7\n",
    "print(total_time_set)"
   ]
  },
  {
   "cell_type": "markdown",
   "metadata": {},
   "source": [
    "We can see a significant improve in performance"
   ]
  },
  {
   "cell_type": "markdown",
   "metadata": {},
   "source": [
    "## Finding Laptops Within a Budget"
   ]
  },
  {
   "cell_type": "markdown",
   "metadata": {},
   "source": [
    "Given a budget of D dollars, find all laptops whose price it at most D."
   ]
  },
  {
   "cell_type": "markdown",
   "metadata": {},
   "source": [
    "If we sort all laptops by price, we can use binary search to identify the first laptop in the sorted list with a price larger than D. We need to make sure that our binary search finds the first one on the list. Then, the result of the query will consist of all laptops whose index in the sorted list is smaller than the index of the first laptop whose price is higher than D dollars:"
   ]
  },
  {
   "cell_type": "code",
   "execution_count": 20,
   "metadata": {},
   "outputs": [
    {
     "name": "stdout",
     "output_type": "stream",
     "text": [
      "683\n",
      "-1\n"
     ]
    }
   ],
   "source": [
    "def row_price(row):\n",
    "    return row[-1]\n",
    "\n",
    "class Inventory():                    \n",
    "    \n",
    "    def __init__(self, csv_filename):\n",
    "        with open(csv_filename) as f: \n",
    "            reader = csv.reader(f)\n",
    "            rows = list(reader)\n",
    "        self.header = rows[0]        \n",
    "        self.rows = rows[1:]\n",
    "        for row in self.rows:              \n",
    "            row[-1] = int(row[-1])\n",
    "        self.id_to_row = {}                        \n",
    "        for row in self.rows:                       \n",
    "            self.id_to_row[row[0]] = row\n",
    "        self.prices = set()                          \n",
    "        for row in self.rows:                        \n",
    "            self.prices.add(row[-1])\n",
    "        self.rows_by_price = sorted(self.rows, key=row_price) # Step 1\n",
    "    \n",
    "    def get_laptop_from_id(self, laptop_id):\n",
    "        for row in self.rows:                 \n",
    "            if row[0] == laptop_id:\n",
    "                return row\n",
    "        return None   \n",
    "    \n",
    "    def get_laptop_from_id_fast(self, laptop_id):  \n",
    "        if laptop_id in self.id_to_row:           \n",
    "            return self.id_to_row[laptop_id]\n",
    "        return None\n",
    "\n",
    "    def check_promotion_dollars(self, dollars):    \n",
    "        for row in self.rows:                   \n",
    "            if row[-1] == dollars:\n",
    "                return True\n",
    "        for row1 in self.rows:                  \n",
    "            for row2 in self.rows:\n",
    "                if row1[-1] + row2[-1] == dollars:\n",
    "                    return True\n",
    "        return False                        \n",
    "    \n",
    "    def check_promotion_dollars_fast(self, dollars):\n",
    "        if dollars in self.prices:                   \n",
    "            return True\n",
    "        for price in self.prices:                    \n",
    "            if dollars - price in self.prices:\n",
    "                return True\n",
    "        return False                                \n",
    "    \n",
    "    def find_laptop_with_price(self, target_price):\n",
    "        range_start = 0                                   \n",
    "        range_end = len(self.rows_by_price) - 1                       \n",
    "        while range_start < range_end:\n",
    "            range_middle = (range_end + range_start) // 2  \n",
    "            value = self.rows_by_price[range_middle][-1]\n",
    "            if value == target_price:                            \n",
    "                return range_middle                        \n",
    "            elif value < target_price:                           \n",
    "                range_start = range_middle + 1             \n",
    "            else:                                          \n",
    "                range_end = range_middle - 1 \n",
    "        if self.rows_by_price[range_start][-1] != target_price:                  \n",
    "            return -1                                      \n",
    "        return range_start\n",
    "    \n",
    "    def find_first_laptop_more_expensive(self, target_price): # Step 2\n",
    "        range_start = 0                                   \n",
    "        range_end = len(self.rows_by_price) - 1                   \n",
    "        while range_start < range_end:\n",
    "            range_middle = (range_end + range_start) // 2  \n",
    "            price = self.rows_by_price[range_middle][-1]\n",
    "            if price > target_price:\n",
    "                range_end = range_middle\n",
    "            else:\n",
    "                range_start = range_middle + 1\n",
    "        if self.rows_by_price[range_start][-1] <= target_price:                  \n",
    "            return -1                                   \n",
    "        return range_start\n",
    "\n",
    "inventory = Inventory('laptops.csv')                     # Step 3            \n",
    "print(inventory.find_first_laptop_more_expensive(1000))  # Step 4\n",
    "print(inventory.find_first_laptop_more_expensive(10000)) # Step 5"
   ]
  },
  {
   "cell_type": "code",
   "execution_count": null,
   "metadata": {},
   "outputs": [],
   "source": []
  }
 ],
 "metadata": {
  "kernelspec": {
   "display_name": "Python 3",
   "language": "python",
   "name": "python3"
  },
  "language_info": {
   "codemirror_mode": {
    "name": "ipython",
    "version": 3
   },
   "file_extension": ".py",
   "mimetype": "text/x-python",
   "name": "python",
   "nbconvert_exporter": "python",
   "pygments_lexer": "ipython3",
   "version": "3.8.2"
  }
 },
 "nbformat": 4,
 "nbformat_minor": 2
}
